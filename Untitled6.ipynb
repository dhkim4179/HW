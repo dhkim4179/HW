{
 "cells": [
  {
   "cell_type": "code",
   "execution_count": 1,
   "metadata": {},
   "outputs": [
    {
     "name": "stdout",
     "output_type": "stream",
     "text": [
      "반지름이 5인 원의 면적 :78.5\n",
      "반지름이 5인 원의 둘레 :31.400000000000002\n"
     ]
    }
   ],
   "source": [
    "def circleArea(radius):\n",
    "    result = PI*radius**2\n",
    "    print(\"반지름이 \" + str(radius) + \"인 원의 면적 :\" + str(result))\n",
    "\n",
    "def circleCircumference(radius):\n",
    "     result = 2*PI*radius\n",
    "     print(\"반지름이 \" + str(radius) + \"인 원의 둘레 :\" + str(result))\n",
    "\n",
    "\n",
    "PI = 3.14\n",
    "circleArea(5)\n",
    "circleCircumference(5)\n",
    "\n",
    "#지정된 원에 대한 값이 출력됨"
   ]
  },
  {
   "cell_type": "code",
   "execution_count": 2,
   "metadata": {},
   "outputs": [
    {
     "name": "stdout",
     "output_type": "stream",
     "text": [
      "반지름 : 7\n",
      "반지름이 7.0인 원의 면적 :153.86\n",
      "반지름이 7.0인 원의 둘레 :43.96\n"
     ]
    }
   ],
   "source": [
    "def circleArea(radius):\n",
    "    result = PI*radius**2\n",
    "    print(\"반지름이 \" + str(radius) + \"인 원의 면적 :\" + str(result))\n",
    "\n",
    "def circleCircumference(radius):\n",
    "     result = 2*PI*radius\n",
    "     print(\"반지름이 \" + str(radius) + \"인 원의 둘레 :\" + str(result))\n",
    "\n",
    "r = float(input(\"반지름 : \"))\n",
    "PI = 3.14\n",
    "circleArea(r)\n",
    "circleCircumference(r)\n",
    "\n",
    "#입력한 원에 대한 값이 출력됨"
   ]
  },
  {
   "cell_type": "code",
   "execution_count": null,
   "metadata": {},
   "outputs": [],
   "source": []
  }
 ],
 "metadata": {
  "kernelspec": {
   "display_name": "Python 3",
   "language": "python",
   "name": "python3"
  },
  "language_info": {
   "codemirror_mode": {
    "name": "ipython",
    "version": 3
   },
   "file_extension": ".py",
   "mimetype": "text/x-python",
   "name": "python",
   "nbconvert_exporter": "python",
   "pygments_lexer": "ipython3",
   "version": "3.7.6"
  }
 },
 "nbformat": 4,
 "nbformat_minor": 4
}
