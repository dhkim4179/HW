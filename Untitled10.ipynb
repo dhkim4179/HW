{
 "cells": [
  {
   "cell_type": "code",
   "execution_count": 1,
   "metadata": {},
   "outputs": [
    {
     "name": "stdout",
     "output_type": "stream",
     "text": [
      "입력 파일 이름: numbers.txt\n",
      "출력 파일 이름: output.txt\n"
     ]
    }
   ],
   "source": [
    "from tkinter import *\n",
    "\n",
    "file = input(\"입력 파일 이름: \")\n",
    "#파일경로\\numbers.txt\n",
    "infile = open(file, \"r\")\n",
    "rfile = infile.readlines()\n",
    "infile.close()\n",
    "\n",
    "file = input(\"출력 파일 이름: \")\n",
    "#파일경로\\output.txt\n",
    "outfile = open(file,\"w\")\n",
    "\n",
    "total = 0\n",
    "avg = 0\n",
    "count = 0\n",
    "for s in rfile:\n",
    "    total += float(s)\n",
    "    count += 1\n",
    "avg = total / count\n",
    "\n",
    "print(\"합계=\"+str(total), file = outfile, end =\"\\n\")\n",
    "print(\"평균=\"+str(avg), file = outfile, end =\"\")\n",
    "\n",
    "outfile.close()"
   ]
  },
  {
   "cell_type": "code",
   "execution_count": null,
   "metadata": {},
   "outputs": [],
   "source": []
  }
 ],
 "metadata": {
  "kernelspec": {
   "display_name": "Python 3",
   "language": "python",
   "name": "python3"
  },
  "language_info": {
   "codemirror_mode": {
    "name": "ipython",
    "version": 3
   },
   "file_extension": ".py",
   "mimetype": "text/x-python",
   "name": "python",
   "nbconvert_exporter": "python",
   "pygments_lexer": "ipython3",
   "version": "3.7.6"
  }
 },
 "nbformat": 4,
 "nbformat_minor": 4
}
